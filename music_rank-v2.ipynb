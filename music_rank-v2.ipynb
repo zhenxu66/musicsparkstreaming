{
 "cells": [
  {
   "cell_type": "code",
   "execution_count": 74,
   "metadata": {
    "collapsed": false
   },
   "outputs": [],
   "source": [
    "from bs4 import BeautifulSoup\n",
    "import sys, urllib.request\n",
    "import requests\n",
    "import numpy as np\n",
    "import pandas as pd\n",
    "import seaborn as sns\n",
    "import matplotlib.pyplot as plt\n",
    "import matplotlib.animation as anim\n",
    "from collections import Counter\n",
    "%matplotlib inline"
   ]
  },
  {
   "cell_type": "code",
   "execution_count": 75,
   "metadata": {
    "collapsed": false
   },
   "outputs": [],
   "source": [
    "rank_no=[]\n",
    "artist=[]\n",
    "music=[]\n",
    "twitter=[]"
   ]
  },
  {
   "cell_type": "code",
   "execution_count": 76,
   "metadata": {
    "collapsed": false
   },
   "outputs": [],
   "source": [
    "def get_single_item_data(item_url, number_start =0,num_end =100):\n",
    "        source_code = urllib.request.urlopen(item_url)  # get all source code\n",
    "        source_text = source_code.read()\n",
    "        #plain_text = source_text.decode('utf-8')\n",
    "        #output = open('plain_text','w+')\n",
    "        #output.write(plain_text)\n",
    "        #output.close()\n",
    "        soup = BeautifulSoup(source_text,\"html.parser\")\n",
    "        #toplist = soup.find_all('table',{'class':'smv'}).find_all(\"tr\")[0].find_all(\"td\")td[3]\n",
    "        toplist = soup.find_all('table',{'class':'smv'})\n",
    "        Top_Emerging = toplist[0] # Emerging\n",
    "        Top_Trending = toplist[1] # Trending updating fast in 6 seconds\n",
    "        Top_Overall = toplist[2] # overall Comprehensive result\n",
    "        #print(toplist[2])\n",
    "        rank_list = toplist[1].find_all('tr')\n",
    "        for rank in rank_list[number_start:num_end]:\n",
    "            rank_no.append(rank.find_all('td')[0].text)\n",
    "            artist.append(rank.find_all('td')[1].text)\n",
    "            music_text = rank.find_all('td')[2].text\n",
    "            music.append(music_text[0:(music_text.find(\"\\n\"))-1])\n",
    "            twitter.append(rank.find_all('td')[1].find('a').get(\"href\"))\n",
    "        for i in np.arange(len(artist)).tolist()[number_start:number_start+5]:\n",
    "            print(\"ranking No:\"+str(i+1)+\"   artist:\"+artist[i]+\"  music:\"+music[i]+'\\n')\n",
    "            print(twitter[i]+'\\n')\n"
   ]
  },
  {
   "cell_type": "code",
   "execution_count": 77,
   "metadata": {
    "collapsed": false
   },
   "outputs": [],
   "source": [
    "#print(\"$$$$$$$$$$$$$$$$$$$$$$$$$$$$$$  11-30 song and Singers need to be promoted  $$$$$$$$$$$$$$$$$$$$$$$$$$$$$$$$\\n\")\n",
    "get_single_item_data(\"http://realtime.billboard.com/?chart=trending140\", 20, 40)"
   ]
  },
  {
   "cell_type": "code",
   "execution_count": 78,
   "metadata": {
    "collapsed": false
   },
   "outputs": [],
   "source": [
    "Top_Trending_df = pd.DataFrame({'No_':rank_no, 'artist': artist, 'music':music, 'Twitter':twitter})"
   ]
  },
  {
   "cell_type": "code",
   "execution_count": 79,
   "metadata": {
    "collapsed": true
   },
   "outputs": [],
   "source": [
    "def addprice_discount_pd (raw_pd, price_low, price_high):\n",
    "    pd_length = len(list(raw_pd.index))\n",
    "    price = ['{0:.2f}'.format(np.random.uniform(price_low,price_high)) for i in list(range(pd_length))]  \n",
    "    # price distribution can be optimized currently uniform\n",
    "    discount =['{0:.1f}'.format(1.01-0.01*int(rank)) for rank in list(raw_pd.No_)]  # discount will be optimized later\n",
    "    raw_pd[\"price\"] = pd.Series(price, index=raw_pd.index)\n",
    "    raw_pd[\"discount\"] = pd.Series(discount, index=raw_pd.index)\n",
    "    return \n",
    "  "
   ]
  },
  {
   "cell_type": "code",
   "execution_count": 80,
   "metadata": {
    "collapsed": false
   },
   "outputs": [],
   "source": [
    "addprice_discount_pd(Top_Trending_df, 8,10)"
   ]
  },
  {
   "cell_type": "code",
   "execution_count": 81,
   "metadata": {
    "collapsed": false
   },
   "outputs": [
    {
     "data": {
      "text/html": [
       "<div>\n",
       "<table border=\"1\" class=\"dataframe\">\n",
       "  <thead>\n",
       "    <tr style=\"text-align: right;\">\n",
       "      <th></th>\n",
       "      <th>No_</th>\n",
       "      <th>Twitter</th>\n",
       "      <th>artist</th>\n",
       "      <th>music</th>\n",
       "      <th>price</th>\n",
       "      <th>discount</th>\n",
       "    </tr>\n",
       "  </thead>\n",
       "  <tbody>\n",
       "    <tr>\n",
       "      <th>0</th>\n",
       "      <td>21</td>\n",
       "      <td>http://twitter.com/YoungJeezy</td>\n",
       "      <td>Young Jeezy</td>\n",
       "      <td>Sweet Life (feat. Janelle Monáe)</td>\n",
       "      <td>9.34</td>\n",
       "      <td>0.8</td>\n",
       "    </tr>\n",
       "    <tr>\n",
       "      <th>1</th>\n",
       "      <td>22</td>\n",
       "      <td>http://twitter.com/Slayer</td>\n",
       "      <td>Slayer</td>\n",
       "      <td>Repentless</td>\n",
       "      <td>9.98</td>\n",
       "      <td>0.8</td>\n",
       "    </tr>\n",
       "    <tr>\n",
       "      <th>2</th>\n",
       "      <td>23</td>\n",
       "      <td>http://twitter.com/leonbridges</td>\n",
       "      <td>Leon Bridges</td>\n",
       "      <td>Coming Home</td>\n",
       "      <td>9.01</td>\n",
       "      <td>0.8</td>\n",
       "    </tr>\n",
       "    <tr>\n",
       "      <th>3</th>\n",
       "      <td>24</td>\n",
       "      <td>http://twitter.com/theweeknd</td>\n",
       "      <td>The Weeknd</td>\n",
       "      <td>Can't Feel My Face</td>\n",
       "      <td>9.17</td>\n",
       "      <td>0.8</td>\n",
       "    </tr>\n",
       "    <tr>\n",
       "      <th>4</th>\n",
       "      <td>25</td>\n",
       "      <td>http://twitter.com/lildickytweets</td>\n",
       "      <td>Lil Dicky</td>\n",
       "      <td>$ave Dat Money (feat. Fetty Wap &amp; Rich Homie Q...</td>\n",
       "      <td>9.52</td>\n",
       "      <td>0.8</td>\n",
       "    </tr>\n",
       "    <tr>\n",
       "      <th>5</th>\n",
       "      <td>26</td>\n",
       "      <td>http://twitter.com/chrisbrown</td>\n",
       "      <td>Chris Brown</td>\n",
       "      <td>Zero</td>\n",
       "      <td>8.45</td>\n",
       "      <td>0.8</td>\n",
       "    </tr>\n",
       "    <tr>\n",
       "      <th>6</th>\n",
       "      <td>27</td>\n",
       "      <td>http://twitter.com/MarinasDiamonds</td>\n",
       "      <td>Marina and The Diamonds</td>\n",
       "      <td>FROOT</td>\n",
       "      <td>9.89</td>\n",
       "      <td>0.7</td>\n",
       "    </tr>\n",
       "    <tr>\n",
       "      <th>7</th>\n",
       "      <td>28</td>\n",
       "      <td>http://twitter.com/LukeBryanOnline</td>\n",
       "      <td>Luke Bryan</td>\n",
       "      <td>Home Alone Tonight (feat. Karen Fairchild)</td>\n",
       "      <td>9.17</td>\n",
       "      <td>0.7</td>\n",
       "    </tr>\n",
       "    <tr>\n",
       "      <th>8</th>\n",
       "      <td>29</td>\n",
       "      <td>http://twitter.com/RoyWoods_</td>\n",
       "      <td>Roy Wood$</td>\n",
       "      <td>Drama</td>\n",
       "      <td>9.26</td>\n",
       "      <td>0.7</td>\n",
       "    </tr>\n",
       "    <tr>\n",
       "      <th>9</th>\n",
       "      <td>30</td>\n",
       "      <td>http://twitter.com/TheChainsmokers</td>\n",
       "      <td>The Chainsmokers</td>\n",
       "      <td>Roses (feat. ROZES)</td>\n",
       "      <td>8.67</td>\n",
       "      <td>0.7</td>\n",
       "    </tr>\n",
       "    <tr>\n",
       "      <th>10</th>\n",
       "      <td>31</td>\n",
       "      <td>http://twitter.com/PanicAtTheDisco</td>\n",
       "      <td>Panic! At the Disco</td>\n",
       "      <td>Emperor's New Clothes</td>\n",
       "      <td>8.93</td>\n",
       "      <td>0.7</td>\n",
       "    </tr>\n",
       "    <tr>\n",
       "      <th>11</th>\n",
       "      <td>32</td>\n",
       "      <td>http://twitter.com/elvisfReShley</td>\n",
       "      <td>Short Dawg</td>\n",
       "      <td>Addiction</td>\n",
       "      <td>9.17</td>\n",
       "      <td>0.7</td>\n",
       "    </tr>\n",
       "    <tr>\n",
       "      <th>12</th>\n",
       "      <td>33</td>\n",
       "      <td>http://twitter.com/youngthug</td>\n",
       "      <td>Young Thug</td>\n",
       "      <td>Be Me See Me</td>\n",
       "      <td>8.89</td>\n",
       "      <td>0.7</td>\n",
       "    </tr>\n",
       "    <tr>\n",
       "      <th>13</th>\n",
       "      <td>34</td>\n",
       "      <td>http://twitter.com/maryjblige</td>\n",
       "      <td>Mary J. Blige</td>\n",
       "      <td>Doubt</td>\n",
       "      <td>9.48</td>\n",
       "      <td>0.7</td>\n",
       "    </tr>\n",
       "    <tr>\n",
       "      <th>14</th>\n",
       "      <td>35</td>\n",
       "      <td>http://twitter.com/onedirection</td>\n",
       "      <td>One Direction</td>\n",
       "      <td>End of the Day</td>\n",
       "      <td>8.75</td>\n",
       "      <td>0.7</td>\n",
       "    </tr>\n",
       "    <tr>\n",
       "      <th>15</th>\n",
       "      <td>36</td>\n",
       "      <td>http://twitter.com/mclyte</td>\n",
       "      <td>MC Lyte</td>\n",
       "      <td>Ball</td>\n",
       "      <td>9.75</td>\n",
       "      <td>0.7</td>\n",
       "    </tr>\n",
       "    <tr>\n",
       "      <th>16</th>\n",
       "      <td>37</td>\n",
       "      <td>http://twitter.com/NICKIMINAJ</td>\n",
       "      <td>Nicki Minaj</td>\n",
       "      <td>Trini Dem Girls</td>\n",
       "      <td>8.55</td>\n",
       "      <td>0.6</td>\n",
       "    </tr>\n",
       "    <tr>\n",
       "      <th>17</th>\n",
       "      <td>38</td>\n",
       "      <td>http://twitter.com/XAmbassadors</td>\n",
       "      <td>X Ambassadors</td>\n",
       "      <td>Renegades</td>\n",
       "      <td>8.62</td>\n",
       "      <td>0.6</td>\n",
       "    </tr>\n",
       "    <tr>\n",
       "      <th>18</th>\n",
       "      <td>39</td>\n",
       "      <td>http://twitter.com/HaileeSteinfeld</td>\n",
       "      <td>Hailee Steinfeld</td>\n",
       "      <td>Love Myself</td>\n",
       "      <td>8.22</td>\n",
       "      <td>0.6</td>\n",
       "    </tr>\n",
       "    <tr>\n",
       "      <th>19</th>\n",
       "      <td>40</td>\n",
       "      <td>http://twitter.com/taylorswift13</td>\n",
       "      <td>Taylor Swift</td>\n",
       "      <td>Wildest Dreams</td>\n",
       "      <td>9.02</td>\n",
       "      <td>0.6</td>\n",
       "    </tr>\n",
       "  </tbody>\n",
       "</table>\n",
       "</div>"
      ],
      "text/plain": [
       "   No_                             Twitter                   artist  \\\n",
       "0   21       http://twitter.com/YoungJeezy              Young Jeezy   \n",
       "1   22           http://twitter.com/Slayer                   Slayer   \n",
       "2   23      http://twitter.com/leonbridges             Leon Bridges   \n",
       "3   24        http://twitter.com/theweeknd               The Weeknd   \n",
       "4   25   http://twitter.com/lildickytweets                Lil Dicky   \n",
       "5   26       http://twitter.com/chrisbrown              Chris Brown   \n",
       "6   27  http://twitter.com/MarinasDiamonds  Marina and The Diamonds   \n",
       "7   28  http://twitter.com/LukeBryanOnline               Luke Bryan   \n",
       "8   29        http://twitter.com/RoyWoods_                Roy Wood$   \n",
       "9   30  http://twitter.com/TheChainsmokers         The Chainsmokers   \n",
       "10  31  http://twitter.com/PanicAtTheDisco      Panic! At the Disco   \n",
       "11  32    http://twitter.com/elvisfReShley               Short Dawg   \n",
       "12  33        http://twitter.com/youngthug               Young Thug   \n",
       "13  34       http://twitter.com/maryjblige            Mary J. Blige   \n",
       "14  35     http://twitter.com/onedirection            One Direction   \n",
       "15  36           http://twitter.com/mclyte                  MC Lyte   \n",
       "16  37       http://twitter.com/NICKIMINAJ              Nicki Minaj   \n",
       "17  38     http://twitter.com/XAmbassadors            X Ambassadors   \n",
       "18  39  http://twitter.com/HaileeSteinfeld         Hailee Steinfeld   \n",
       "19  40    http://twitter.com/taylorswift13             Taylor Swift   \n",
       "\n",
       "                                                music price discount  \n",
       "0                    Sweet Life (feat. Janelle Monáe)  9.34      0.8  \n",
       "1                                          Repentless  9.98      0.8  \n",
       "2                                         Coming Home  9.01      0.8  \n",
       "3                                  Can't Feel My Face  9.17      0.8  \n",
       "4   $ave Dat Money (feat. Fetty Wap & Rich Homie Q...  9.52      0.8  \n",
       "5                                                Zero  8.45      0.8  \n",
       "6                                               FROOT  9.89      0.7  \n",
       "7          Home Alone Tonight (feat. Karen Fairchild)  9.17      0.7  \n",
       "8                                               Drama  9.26      0.7  \n",
       "9                                 Roses (feat. ROZES)  8.67      0.7  \n",
       "10                              Emperor's New Clothes  8.93      0.7  \n",
       "11                                          Addiction  9.17      0.7  \n",
       "12                                       Be Me See Me  8.89      0.7  \n",
       "13                                              Doubt  9.48      0.7  \n",
       "14                                     End of the Day  8.75      0.7  \n",
       "15                                               Ball  9.75      0.7  \n",
       "16                                    Trini Dem Girls  8.55      0.6  \n",
       "17                                          Renegades  8.62      0.6  \n",
       "18                                        Love Myself  8.22      0.6  \n",
       "19                                     Wildest Dreams  9.02      0.6  "
      ]
     },
     "execution_count": 81,
     "metadata": {},
     "output_type": "execute_result"
    }
   ],
   "source": [
    "Top_Trending_df"
   ]
  },
  {
   "cell_type": "code",
   "execution_count": 70,
   "metadata": {
    "collapsed": false
   },
   "outputs": [
    {
     "data": {
      "text/html": [
       "<div>\n",
       "<table border=\"1\" class=\"dataframe\">\n",
       "  <thead>\n",
       "    <tr style=\"text-align: right;\">\n",
       "      <th></th>\n",
       "      <th>No_</th>\n",
       "      <th>Twitter</th>\n",
       "      <th>artist</th>\n",
       "      <th>music</th>\n",
       "      <th>price</th>\n",
       "      <th>discount</th>\n",
       "    </tr>\n",
       "  </thead>\n",
       "  <tbody>\n",
       "    <tr>\n",
       "      <th>count</th>\n",
       "      <td>20</td>\n",
       "      <td>20</td>\n",
       "      <td>20</td>\n",
       "      <td>20</td>\n",
       "      <td>20</td>\n",
       "      <td>20</td>\n",
       "    </tr>\n",
       "    <tr>\n",
       "      <th>unique</th>\n",
       "      <td>20</td>\n",
       "      <td>17</td>\n",
       "      <td>17</td>\n",
       "      <td>20</td>\n",
       "      <td>19</td>\n",
       "      <td>3</td>\n",
       "    </tr>\n",
       "    <tr>\n",
       "      <th>top</th>\n",
       "      <td>27</td>\n",
       "      <td>http://twitter.com/selenagomez</td>\n",
       "      <td>Selena Gomez</td>\n",
       "      <td>Remember</td>\n",
       "      <td>8.22</td>\n",
       "      <td>0.7</td>\n",
       "    </tr>\n",
       "    <tr>\n",
       "      <th>freq</th>\n",
       "      <td>1</td>\n",
       "      <td>3</td>\n",
       "      <td>3</td>\n",
       "      <td>1</td>\n",
       "      <td>2</td>\n",
       "      <td>10</td>\n",
       "    </tr>\n",
       "  </tbody>\n",
       "</table>\n",
       "</div>"
      ],
      "text/plain": [
       "       No_                         Twitter        artist     music price  \\\n",
       "count   20                              20            20        20    20   \n",
       "unique  20                              17            17        20    19   \n",
       "top     27  http://twitter.com/selenagomez  Selena Gomez  Remember  8.22   \n",
       "freq     1                               3             3         1     2   \n",
       "\n",
       "       discount  \n",
       "count        20  \n",
       "unique        3  \n",
       "top         0.7  \n",
       "freq         10  "
      ]
     },
     "execution_count": 70,
     "metadata": {},
     "output_type": "execute_result"
    }
   ],
   "source": [
    "Top_Trending_df.describe()"
   ]
  },
  {
   "cell_type": "code",
   "execution_count": 71,
   "metadata": {
    "collapsed": false
   },
   "outputs": [
    {
     "name": "stdout",
     "output_type": "stream",
     "text": [
      "------------top 20 songs------17 singers in total---------\n"
     ]
    },
    {
     "data": {
      "image/png": "[encoded data removed]",
      "text/plain": [
       "<matplotlib.figure.Figure at 0xbeb9ac8>"
      ]
     },
     "metadata": {},
     "output_type": "display_data"
    }
   ],
   "source": [
    "count = dict(Counter(artist))\n",
    "#print(count)\n",
    "\n",
    "xVals = list(count.keys())\n",
    "yVals = list(count.values())\n",
    "print(\"------------top 20 songs------\"+str(len(np.unique(xVals)))+\" singers in total---------\")\n",
    "#print(np.unique(xVals))\n",
    "x = tuple(np.arange(len(xVals)))\n",
    "width = 0.4\n",
    "ax = plt.subplot(111)\n",
    "ax.set_position([5,2,2.5,1])\n",
    "ax.bar(x, yVals, width)\n",
    "ax.set_xticks([i+width/2 for i in x])\n",
    "ax.set_xticklabels(xVals)\n",
    "plt.rcParams['font.size'] = 80\n"
   ]
  },
  {
   "cell_type": "code",
   "execution_count": 72,
   "metadata": {
    "collapsed": false
   },
   "outputs": [
    {
     "data": {
      "text/plain": [
       "<seaborn.axisgrid.FacetGrid at 0xbede8d0>"
      ]
     },
     "execution_count": 72,
     "metadata": {},
     "output_type": "execute_result"
    },
    {
     "data": {
      "image/png": "[encoded data removed]",
      "text/plain": [
       "<matplotlib.figure.Figure at 0xbedeba8>"
      ]
     },
     "metadata": {},
     "output_type": "display_data"
    }
   ],
   "source": [
    "sns.factorplot(y='artist', data=Top_Trending_df, kind='count',size=10,linewidth=1)"
   ]
  },
  {
   "cell_type": "code",
   "execution_count": 73,
   "metadata": {
    "collapsed": true
   },
   "outputs": [],
   "source": [
    "Top_Trending_df.to_csv(\"Top_Trending_top20_40_price_discount.csv\", index=False)"
   ]
  },
  {
   "cell_type": "code",
   "execution_count": null,
   "metadata": {
    "collapsed": false
   },
   "outputs": [],
   "source": []
  },
  {
   "cell_type": "code",
   "execution_count": null,
   "metadata": {
    "collapsed": true
   },
   "outputs": [],
   "source": []
  }
 ],
 "metadata": {
  "kernelspec": {
   "display_name": "Python 3",
   "language": "python",
   "name": "python3"
  },
  "language_info": {
   "codemirror_mode": {
    "name": "ipython",
    "version": 3
   },
   "file_extension": ".py",
   "mimetype": "text/x-python",
   "name": "python",
   "nbconvert_exporter": "python",
   "pygments_lexer": "ipython3",
   "version": "3.4.3"
  }
 },
 "nbformat": 4,
 "nbformat_minor": 0
}
